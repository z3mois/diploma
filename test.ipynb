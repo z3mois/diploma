{
 "cells": [
  {
   "cell_type": "code",
   "execution_count": 1,
   "metadata": {},
   "outputs": [],
   "source": [
    "from utils import (\n",
    "    wn, \n",
    "    get_normal_form, \n",
    "    my_split, \n",
    "    TitleInWn,\n",
    "    is_lat\n",
    ")\n",
    "import json\n",
    "from os import listdir\n",
    "from os.path import isfile, join\n",
    "from const import DAMP_OF_WIKIDATA_PATh, GOLD_WIKIDATA_DATASET, ALL_NEED_ARTICLE\n",
    "from collections import defaultdict\n",
    "import pickle\n",
    "import pandas as pd\n",
    "from tqdm import tqdm\n",
    "from collections import deque\n",
    "from xml.dom import minidom\n",
    "from dataclasses import dataclass"
   ]
  },
  {
   "cell_type": "code",
   "execution_count": 2,
   "metadata": {},
   "outputs": [],
   "source": [
    "set_senses = set([' '.join([get_normal_form(w).lower() for w in s.lemma.split()]) for s in wn.senses])"
   ]
  },
  {
   "cell_type": "code",
   "execution_count": 3,
   "metadata": {},
   "outputs": [],
   "source": [
    "onlyfiles = [f for f in listdir(DAMP_OF_WIKIDATA_PATh) if isfile(join(DAMP_OF_WIKIDATA_PATh, f))]"
   ]
  },
  {
   "cell_type": "code",
   "execution_count": 6,
   "metadata": {},
   "outputs": [
    {
     "name": "stdout",
     "output_type": "stream",
     "text": [
      "{'id': 'Q31', 'pageid': 127, 'label': {'ru': 'Бельгия', 'en': 'Belgium'}, 'descriptions': {'ru': 'государство в Западной Европе', 'en': 'country in western Europe'}, 'aliases': {'en': ['Kingdom of Belgium', 'BEL', 'be', '🇧🇪', 'BE', 'Koninkrijk België', 'Royaume de Belgique', 'Königreich Belgien', 'Belgien'], 'ru': ['Belgique', 'Королевство Бельгия']}, 'sitelinks': {'enwiki': 'Belgium', 'ruwiki': 'Бельгия'}, 'rels': [{'rel_id': 'Q3624078', 'rank': 'preferred', 'type': 'instance_of'}, {'rel_id': 'Q43702', 'rank': 'normal', 'type': 'instance_of'}, {'rel_id': 'Q6256', 'rank': 'preferred', 'type': 'instance_of'}, {'rel_id': 'Q20181813', 'rank': 'normal', 'type': 'instance_of'}, {'rel_id': 'Q185441', 'rank': 'normal', 'type': 'instance_of'}, {'rel_id': 'Q1250464', 'rank': 'normal', 'type': 'instance_of'}, {'rel_id': 'Q113489728', 'rank': 'normal', 'type': 'instance_of'}]}\n",
      "{'id': 'Q8', 'pageid': 134, 'label': {'en': 'happiness', 'ru': 'счастье'}, 'descriptions': {'en': 'mental or emotional state of well-being characterized by pleasant emotions', 'ru': 'ментальное или эмоциональное состояние благополучия, характеризующееся положительными эмоциями'}, 'aliases': {'en': ['joy', 'happy', 'Happiness']}, 'sitelinks': {'enwiki': 'Happiness', 'ruwiki': 'Счастье'}, 'rels': [{'rel_id': 'Q331769', 'rank': 'normal', 'type': 'instance_of'}, {'rel_id': 'Q60539479', 'rank': 'normal', 'type': 'instance_of'}, {'rel_id': 'Q9415', 'rank': 'normal', 'type': 'instance_of'}, {'rel_id': 'Q16748867', 'rank': 'normal', 'type': 'subclass_of'}]}\n",
      "{'id': 'Q23', 'pageid': 136, 'label': {'ru': 'Джордж Вашингтон', 'en': 'George Washington'}, 'descriptions': {'en': 'president of the United States from 1789 to 1797', 'ru': 'Американский военный и политический деятель, первый президент США (1789–1797)'}, 'aliases': {'en': ['Father of the United States', 'The American Fabius', 'American Fabius'], 'ru': ['Вашингтон, Джордж']}, 'sitelinks': {'enwiki': 'George Washington', 'ruwiki': 'Вашингтон, Джордж'}, 'rels': [{'rel_id': 'Q5', 'rank': 'normal', 'type': 'instance_of'}]}\n",
      "{'id': 'Q24', 'pageid': 137, 'label': {'en': 'Jack Bauer', 'ru': 'Джек Бауэр'}, 'descriptions': {'en': 'character from the television series 24', 'ru': 'главный герой американского телевизионного шоу 24'}, 'aliases': {}, 'sitelinks': {'enwiki': 'Jack Bauer'}, 'rels': [{'rel_id': 'Q15632617', 'rank': 'normal', 'type': 'instance_of'}, {'rel_id': 'Q15773317', 'rank': 'normal', 'type': 'instance_of'}, {'rel_id': 'Q20085850', 'rank': 'normal', 'type': 'instance_of'}]}\n",
      "{'id': 'Q42', 'pageid': 138, 'label': {'en': 'Douglas Adams', 'ru': 'Дуглас Адамс'}, 'descriptions': {'en': 'English science fiction writer and humourist', 'ru': 'английский писатель, драматург и сценарист, автор серии книг «Автостопом по галактике»'}, 'aliases': {'en': ['Douglas Noël Adams', 'DNA'], 'ru': ['Адамс, Дуглас', 'Дуглас Ноэль Адамс', 'Адамс, Дуглас Ноэль']}, 'sitelinks': {'enwiki': 'Douglas Adams', 'ruwiki': 'Адамс, Дуглас'}, 'rels': [{'rel_id': 'Q5', 'rank': 'normal', 'type': 'instance_of'}]}\n",
      "{'id': 'Q1868', 'pageid': 142, 'label': {'en': 'Paul Otlet', 'ru': 'Поль Отле'}, 'descriptions': {'en': 'Belgian author, librarian and anti-colonial thinker', 'ru': 'бельгийский библиограф, один из создателей УДК'}, 'aliases': {'ru': ['Отле, Поль'], 'en': ['Paul Marie Ghislain Otlet', 'Paul Marie Otlet']}, 'sitelinks': {'enwiki': 'Paul Otlet', 'ruwiki': 'Отле, Поль'}, 'rels': [{'rel_id': 'Q5', 'rank': 'normal', 'type': 'instance_of'}]}\n",
      "{'id': 'Q2013', 'pageid': 146, 'label': {'en': 'Wikidata', 'ru': 'Викиданные'}, 'descriptions': {'en': 'free knowledge graph hosted by Wikimedia and edited by volunteers', 'ru': 'проект Фонда Викимедиа; свободная база знаний, которую может редактировать каждый'}, 'aliases': {'ru': ['Викидата', 'Wikidata', 'wikidata.org', 'WD', 'ВД', 'd:'], 'en': ['wikidata.org', 'm.wikidata.org', 'www.wikidata.org', 'WD', 'WKP', 'd:', 'wikidatawiki']}, 'sitelinks': {'ruwiki': 'Викиданные', 'enwiki': 'Wikidata'}, 'rels': [{'rel_id': 'Q33120876', 'rank': 'normal', 'type': 'instance_of'}, {'rel_id': 'Q638153', 'rank': 'normal', 'type': 'instance_of'}, {'rel_id': 'Q36509592', 'rank': 'normal', 'type': 'instance_of'}, {'rel_id': 'Q15633582', 'rank': 'normal', 'type': 'instance_of'}, {'rel_id': 'Q593744', 'rank': 'normal', 'type': 'instance_of'}, {'rel_id': 'Q7094076', 'rank': 'normal', 'type': 'instance_of'}, {'rel_id': 'Q33002955', 'rank': 'normal', 'type': 'instance_of'}, {'rel_id': 'Q114955954', 'rank': 'normal', 'type': 'instance_of'}, {'rel_id': 'Q115471117', 'rank': 'normal', 'type': 'instance_of'}]}\n",
      "{'id': 'Q45', 'pageid': 158, 'label': {'en': 'Portugal', 'ru': 'Португалия'}, 'descriptions': {'en': 'country in Southwestern Europe', 'ru': 'страна в Европе'}, 'aliases': {'en': ['Portuguese Republic', 'PT', '🇵🇹', 'PRT', 'POR'], 'ru': ['Portugal', 'Португальская Республика']}, 'sitelinks': {'enwiki': 'Portugal', 'ruwiki': 'Португалия'}, 'rels': [{'rel_id': 'Q3624078', 'rank': 'normal', 'type': 'instance_of'}, {'rel_id': 'Q6256', 'rank': 'normal', 'type': 'instance_of'}, {'rel_id': 'Q20181813', 'rank': 'normal', 'type': 'instance_of'}, {'rel_id': 'Q113489728', 'rank': 'normal', 'type': 'instance_of'}]}\n",
      "{'id': 'Q51', 'pageid': 165, 'label': {'ru': 'Антарктида', 'en': 'Antarctica'}, 'descriptions': {'ru': 'континент', 'en': 'polar continent in the Southern Hemisphere'}, 'aliases': {'en': ['Antarctic Selection']}, 'sitelinks': {'enwiki': 'Antarctica', 'ruwiki': 'Антарктида'}, 'rels': [{'rel_id': 'Q5107', 'rank': 'normal', 'type': 'instance_of'}, {'rel_id': 'Q82794', 'rank': 'normal', 'type': 'instance_of'}, {'rel_id': 'Q312461', 'rank': 'normal', 'type': 'instance_of'}]}\n",
      "{'id': 'Q58', 'pageid': 178, 'label': {'en': 'penis', 'ru': 'пенис'}, 'descriptions': {'en': 'primary sexual organ of male animals', 'ru': 'орган совокупления, служащий для введения спермы в половые пути самки, также в ряде случаев служит органом выведения мочи из организма.'}, 'aliases': {'ru': ['детородный орган', 'половой член', 'член']}, 'sitelinks': {'enwiki': 'Penis', 'ruwiki': 'Половой член'}, 'rels': [{'rel_id': 'Q712378', 'rank': 'normal', 'type': 'instance_of'}, {'rel_id': 'Q4620674', 'rank': 'normal', 'type': 'subclass_of'}, {'rel_id': 'Q168552', 'rank': 'normal', 'type': 'subclass_of'}]}\n"
     ]
    }
   ],
   "source": [
    "count  = 0\n",
    "onlyfiles = [f for f in listdir(DAMP_OF_WIKIDATA_PATh) if isfile(join(DAMP_OF_WIKIDATA_PATh, f))]\n",
    "for file in onlyfiles:\n",
    "    with open(f'{DAMP_OF_WIKIDATA_PATh}\\\\{file}', 'r', encoding='utf-8') as f:\n",
    "        for _, line in enumerate(f):\n",
    "            page = json.loads(line)\n",
    "            if (page['id'] and int(page['id'][1:]) > 10000000) or 'ru' in page['descriptions']:\n",
    "                print(page)\n",
    "                count += 1\n",
    "            if count  >= 10:\n",
    "                break           \n",
    "        if count  >= 10:\n",
    "            break"
   ]
  },
  {
   "cell_type": "code",
   "execution_count": null,
   "metadata": {},
   "outputs": [],
   "source": [
    "# with open(\"D:\\\\lbase_data\\\\all_straight_graph.pickle\", 'wb') as f:\n",
    "#     pickle.dump(straight_idx,f)\n",
    "# with open(\"D:\\\\lbase_data\\\\all_inverse_graph.pickle\", 'wb') as f:\n",
    "#     pickle.dump(inverse_idx,f)"
   ]
  },
  {
   "cell_type": "code",
   "execution_count": 4,
   "metadata": {},
   "outputs": [],
   "source": [
    "# with open(\"D:\\\\lbase_data\\\\all_straight_graph.pickle\", 'rb') as f:\n",
    "#     straight_idx = pickle.load(f)\n",
    "# with open(\"D:\\\\lbase_data\\\\all_inverse_graph.pickle\", 'rb') as f:\n",
    "#     inverse_idx = pickle.load(f)"
   ]
  },
  {
   "cell_type": "code",
   "execution_count": 5,
   "metadata": {},
   "outputs": [],
   "source": [
    "# with open(\"D:\\\\lbase_data\\\\clear_inverse_graph.pickle\", 'wb') as f:\n",
    "#     pickle.dump(clear_inverse_idx,f)\n",
    "# with open(\"D:\\\\lbase_data\\\\clear_inverse_graph.pickle\", 'rb') as f:\n",
    "#     clear_inverse_idx = pickle.load(f)"
   ]
  },
  {
   "cell_type": "code",
   "execution_count": 24,
   "metadata": {},
   "outputs": [
    {
     "name": "stderr",
     "output_type": "stream",
     "text": [
      "  8%|▊         | 8/104 [02:12<09:59,  6.24s/it]   "
     ]
    },
    {
     "name": "stdout",
     "output_type": "stream",
     "text": [
      "{'id': 'Q190', 'pageid': 330, 'label': {'ru': 'Бог', 'en': 'God'}, 'descriptions': {'en': 'principal object of faith in monotheistic religions, a divine entity that created and typically supervises all existence', 'ru': 'название верховного сверхъестественного существа в монотеистических религиях'}, 'aliases': {'ru': ['Творец', 'Создатель', 'Всевышний', 'Демиург', 'божество'], 'en': ['supreme being', 'G-d', 'Most High', 'Almighty', 'Creator', 'All-Knowing One', 'The Lord', 'Allah', 'Brahman', 'The All']}, 'sitelinks': {'enwiki': 'God', 'ruwiki': 'Бог'}, 'rels': [{'rel_id': 'Q23847174', 'rank': 'normal', 'type': 'instance_of'}, {'rel_id': 'Q12160552', 'rank': 'normal', 'type': 'instance_of'}, {'rel_id': 'Q635155', 'rank': 'normal', 'type': 'subclass_of'}, {'rel_id': 'Q215627', 'rank': 'normal', 'type': 'subclass_of'}, {'rel_id': 'Q18563354', 'rank': 'normal', 'type': 'subclass_of'}]}\n",
      "[Sense(id=\"113701-N-133731\", name=\"БОГ\")]\n"
     ]
    },
    {
     "name": "stderr",
     "output_type": "stream",
     "text": [
      "100%|██████████| 104/104 [19:38<00:00, 11.33s/it]\n"
     ]
    }
   ],
   "source": [
    "tweets = []\n",
    "to_add = set()\n",
    "for file in tqdm(onlyfiles):\n",
    "    with open(f'{DAMP_OF_WIKIDATA_PATh}\\\\{file}', 'r', encoding='utf-8') as f:\n",
    "        for line in f:\n",
    "            info = json.loads(line)\n",
    "            if info['id'] == 'Q190':\n",
    "                    print(info)\n",
    "            if 'ru' in info['label'] and int(info['id'][1:]) <= 10000000 and (is_lat(info[\"label\"]['ru'])) and 'фильм' not in info[\"label\"]['ru']:\n",
    "                try:\n",
    "                    label = info[\"label\"]['ru']\n",
    "                    sense = wn.get_senses(label)\n",
    "                    if info['id'] == 'Q190':\n",
    "                            print(sense)        \n",
    "                    if sense:\n",
    "                        tweets.append((info, sense[0].lemma))\n",
    "                        for elem in info['rels']:\n",
    "                            to_add.add(elem['rel_id'])\n",
    "                    else:\n",
    "                        lemma = TitleInWn(set_senses, my_split(label).split(',')[0])\n",
    "                        if info['id'] == 'Q190':\n",
    "                            print(lemma, '!!!!!!!!!!!!!!!!!!!!!!!!!!!!!!!!!!!!!!!!!!!!!') \n",
    "                        if lemma:\n",
    "                            tweets.append((info, lemma))\n",
    "                            for elem in info['rels']:\n",
    "                                to_add.add(elem['rel_id'])     \n",
    "                except:\n",
    "                    pass          "
   ]
  },
  {
   "cell_type": "code",
   "execution_count": 6,
   "metadata": {},
   "outputs": [
    {
     "data": {
      "text/plain": [
       "161599"
      ]
     },
     "execution_count": 6,
     "metadata": {},
     "output_type": "execute_result"
    }
   ],
   "source": [
    "len(tweets)"
   ]
  },
  {
   "cell_type": "code",
   "execution_count": 7,
   "metadata": {},
   "outputs": [
    {
     "data": {
      "text/plain": [
       "18922"
      ]
     },
     "execution_count": 7,
     "metadata": {},
     "output_type": "execute_result"
    }
   ],
   "source": [
    "len(to_add)"
   ]
  },
  {
   "cell_type": "code",
   "execution_count": 8,
   "metadata": {},
   "outputs": [
    {
     "name": "stderr",
     "output_type": "stream",
     "text": [
      "  0%|          | 0/5 [00:00<?, ?it/s]"
     ]
    },
    {
     "name": "stdout",
     "output_type": "stream",
     "text": [
      "18922\n"
     ]
    },
    {
     "name": "stderr",
     "output_type": "stream",
     "text": [
      " 20%|██        | 1/5 [06:59<27:57, 419.36s/it]"
     ]
    },
    {
     "name": "stdout",
     "output_type": "stream",
     "text": [
      "12391\n"
     ]
    },
    {
     "name": "stderr",
     "output_type": "stream",
     "text": [
      " 40%|████      | 2/5 [13:48<20:40, 413.34s/it]"
     ]
    },
    {
     "name": "stdout",
     "output_type": "stream",
     "text": [
      "8260\n"
     ]
    },
    {
     "name": "stderr",
     "output_type": "stream",
     "text": [
      " 60%|██████    | 3/5 [20:40<13:45, 412.65s/it]"
     ]
    },
    {
     "name": "stdout",
     "output_type": "stream",
     "text": [
      "5883\n"
     ]
    },
    {
     "name": "stderr",
     "output_type": "stream",
     "text": [
      " 80%|████████  | 4/5 [27:22<06:48, 408.42s/it]"
     ]
    },
    {
     "name": "stdout",
     "output_type": "stream",
     "text": [
      "4331\n"
     ]
    },
    {
     "name": "stderr",
     "output_type": "stream",
     "text": [
      "100%|██████████| 5/5 [34:05<00:00, 409.18s/it]\n"
     ]
    }
   ],
   "source": [
    "for i in tqdm(range(5)):\n",
    "    if i != 0:\n",
    "        to_add = new_to_add\n",
    "    print(len(to_add))\n",
    "    new_to_add = set()\n",
    "    for file in onlyfiles:\n",
    "        with open(f'{DAMP_OF_WIKIDATA_PATh}\\\\{file}', 'r', encoding='utf-8') as f:\n",
    "            for line in f:\n",
    "                info = json.loads(line)\n",
    "                if info['id'] in to_add and int(info['id'][1:]) <= 10000000 and 'ru' in info['label']  and 'фильм' not in info[\"label\"]['ru']:\n",
    "                    try:\n",
    "                        label = info[\"label\"]['ru']\n",
    "                        sense = wn.get_senses(label)\n",
    "                        if sense:\n",
    "                            tweets.append((info, sense[0].lemma))\n",
    "                        else:\n",
    "                            lemma = TitleInWn(set_senses, my_split(label).split(',')[0])\n",
    "                            if lemma is not None:\n",
    "                                tweets.append((info, lemma))\n",
    "                        for elem in info['rels']:\n",
    "                            new_to_add.add(elem['rel_id'])\n",
    "                    except:\n",
    "                        pass\n",
    "                elif info['label'] and info['id'] in to_add:\n",
    "                    for elem in info['rels']:\n",
    "                        new_to_add.add(elem['rel_id'])\n",
    "                    tweets.append((info, info['label']['en']))"
   ]
  },
  {
   "cell_type": "code",
   "execution_count": 9,
   "metadata": {},
   "outputs": [
    {
     "data": {
      "text/plain": [
       "188039"
      ]
     },
     "execution_count": 9,
     "metadata": {},
     "output_type": "execute_result"
    }
   ],
   "source": [
    "len(tweets)"
   ]
  },
  {
   "cell_type": "code",
   "execution_count": 10,
   "metadata": {},
   "outputs": [],
   "source": [
    "# with open(ALL_NEED_ARTICLE, 'wb') as f:\n",
    "#     pickle.dump(tweets, f)"
   ]
  },
  {
   "cell_type": "code",
   "execution_count": 4,
   "metadata": {},
   "outputs": [
    {
     "data": {
      "text/html": [
       "<div>\n",
       "<style scoped>\n",
       "    .dataframe tbody tr th:only-of-type {\n",
       "        vertical-align: middle;\n",
       "    }\n",
       "\n",
       "    .dataframe tbody tr th {\n",
       "        vertical-align: top;\n",
       "    }\n",
       "\n",
       "    .dataframe thead th {\n",
       "        text-align: right;\n",
       "    }\n",
       "</style>\n",
       "<table border=\"1\" class=\"dataframe\">\n",
       "  <thead>\n",
       "    <tr style=\"text-align: right;\">\n",
       "      <th></th>\n",
       "      <th>Unnamed: 0.1</th>\n",
       "      <th>Unnamed: 0</th>\n",
       "      <th>synset_id</th>\n",
       "      <th>wiki_title</th>\n",
       "      <th>annotation</th>\n",
       "      <th>wiki_title_gold</th>\n",
       "      <th>WikiDataGoldTitle</th>\n",
       "      <th>WikiDataGoldId</th>\n",
       "    </tr>\n",
       "  </thead>\n",
       "  <tbody>\n",
       "    <tr>\n",
       "      <th>0</th>\n",
       "      <td>0</td>\n",
       "      <td>0</td>\n",
       "      <td>115195-N</td>\n",
       "      <td>Облава</td>\n",
       "      <td>Да</td>\n",
       "      <td>Облава</td>\n",
       "      <td>Облава</td>\n",
       "      <td>Q494497</td>\n",
       "    </tr>\n",
       "    <tr>\n",
       "      <th>1</th>\n",
       "      <td>1</td>\n",
       "      <td>1</td>\n",
       "      <td>128158-N</td>\n",
       "      <td>Шаньдун</td>\n",
       "      <td>Да</td>\n",
       "      <td>Шаньдун</td>\n",
       "      <td>Шаньдун</td>\n",
       "      <td>Q43407</td>\n",
       "    </tr>\n",
       "    <tr>\n",
       "      <th>2</th>\n",
       "      <td>2</td>\n",
       "      <td>2</td>\n",
       "      <td>143699-N</td>\n",
       "      <td>Оксюморон</td>\n",
       "      <td>Да</td>\n",
       "      <td>Оксюморон</td>\n",
       "      <td>оксюморон</td>\n",
       "      <td>Q169429</td>\n",
       "    </tr>\n",
       "    <tr>\n",
       "      <th>3</th>\n",
       "      <td>3</td>\n",
       "      <td>3</td>\n",
       "      <td>4061-N</td>\n",
       "      <td>Доверенность</td>\n",
       "      <td>Да</td>\n",
       "      <td>Доверенность</td>\n",
       "      <td>Доверенность</td>\n",
       "      <td>Q159733</td>\n",
       "    </tr>\n",
       "    <tr>\n",
       "      <th>4</th>\n",
       "      <td>4</td>\n",
       "      <td>5</td>\n",
       "      <td>136544-N</td>\n",
       "      <td>Шахматная доска</td>\n",
       "      <td>Да</td>\n",
       "      <td>Шахматная доска</td>\n",
       "      <td>шахматная доска</td>\n",
       "      <td>Q110079</td>\n",
       "    </tr>\n",
       "    <tr>\n",
       "      <th>...</th>\n",
       "      <td>...</td>\n",
       "      <td>...</td>\n",
       "      <td>...</td>\n",
       "      <td>...</td>\n",
       "      <td>...</td>\n",
       "      <td>...</td>\n",
       "      <td>...</td>\n",
       "      <td>...</td>\n",
       "    </tr>\n",
       "    <tr>\n",
       "      <th>1725</th>\n",
       "      <td>1725</td>\n",
       "      <td>1993</td>\n",
       "      <td>113701-N</td>\n",
       "      <td>Царю небесный</td>\n",
       "      <td>Нет</td>\n",
       "      <td>Бог</td>\n",
       "      <td>Бог</td>\n",
       "      <td>Q190</td>\n",
       "    </tr>\n",
       "    <tr>\n",
       "      <th>1726</th>\n",
       "      <td>1726</td>\n",
       "      <td>1994</td>\n",
       "      <td>124807-N</td>\n",
       "      <td>Наставничество</td>\n",
       "      <td>Да</td>\n",
       "      <td>Наставничество</td>\n",
       "      <td>наставничество</td>\n",
       "      <td>Q967647</td>\n",
       "    </tr>\n",
       "    <tr>\n",
       "      <th>1727</th>\n",
       "      <td>1727</td>\n",
       "      <td>1995</td>\n",
       "      <td>9199-N</td>\n",
       "      <td>Трансурановые элементы</td>\n",
       "      <td>Да</td>\n",
       "      <td>Трансурановые элементы</td>\n",
       "      <td>трансурановые элементы</td>\n",
       "      <td>Q106844</td>\n",
       "    </tr>\n",
       "    <tr>\n",
       "      <th>1728</th>\n",
       "      <td>1728</td>\n",
       "      <td>1996</td>\n",
       "      <td>103410-N</td>\n",
       "      <td>Эсватини</td>\n",
       "      <td>Да</td>\n",
       "      <td>Эсватини</td>\n",
       "      <td>Эсватини</td>\n",
       "      <td>Q1050</td>\n",
       "    </tr>\n",
       "    <tr>\n",
       "      <th>1729</th>\n",
       "      <td>1729</td>\n",
       "      <td>1998</td>\n",
       "      <td>141998-N</td>\n",
       "      <td>Землянка</td>\n",
       "      <td>Да</td>\n",
       "      <td>Землянка</td>\n",
       "      <td>землянка</td>\n",
       "      <td>Q935908</td>\n",
       "    </tr>\n",
       "  </tbody>\n",
       "</table>\n",
       "<p>1730 rows × 8 columns</p>\n",
       "</div>"
      ],
      "text/plain": [
       "      Unnamed: 0.1  Unnamed: 0 synset_id              wiki_title annotation  \\\n",
       "0                0           0  115195-N                  Облава         Да   \n",
       "1                1           1  128158-N                 Шаньдун         Да   \n",
       "2                2           2  143699-N               Оксюморон         Да   \n",
       "3                3           3    4061-N            Доверенность         Да   \n",
       "4                4           5  136544-N         Шахматная доска         Да   \n",
       "...            ...         ...       ...                     ...        ...   \n",
       "1725          1725        1993  113701-N           Царю небесный        Нет   \n",
       "1726          1726        1994  124807-N          Наставничество         Да   \n",
       "1727          1727        1995    9199-N  Трансурановые элементы         Да   \n",
       "1728          1728        1996  103410-N                Эсватини         Да   \n",
       "1729          1729        1998  141998-N                Землянка         Да   \n",
       "\n",
       "             wiki_title_gold       WikiDataGoldTitle WikiDataGoldId  \n",
       "0                     Облава                  Облава        Q494497  \n",
       "1                    Шаньдун                 Шаньдун         Q43407  \n",
       "2                  Оксюморон               оксюморон        Q169429  \n",
       "3               Доверенность            Доверенность        Q159733  \n",
       "4            Шахматная доска         шахматная доска        Q110079  \n",
       "...                      ...                     ...            ...  \n",
       "1725                     Бог                     Бог           Q190  \n",
       "1726          Наставничество          наставничество        Q967647  \n",
       "1727  Трансурановые элементы  трансурановые элементы        Q106844  \n",
       "1728                Эсватини                Эсватини          Q1050  \n",
       "1729                Землянка                землянка        Q935908  \n",
       "\n",
       "[1730 rows x 8 columns]"
      ]
     },
     "execution_count": 4,
     "metadata": {},
     "output_type": "execute_result"
    }
   ],
   "source": [
    "data = pd.read_csv(GOLD_WIKIDATA_DATASET)\n",
    "data"
   ]
  },
  {
   "cell_type": "code",
   "execution_count": 5,
   "metadata": {},
   "outputs": [
    {
     "data": {
      "text/plain": [
       "188039"
      ]
     },
     "execution_count": 5,
     "metadata": {},
     "output_type": "execute_result"
    }
   ],
   "source": [
    "with open(ALL_NEED_ARTICLE, 'rb') as f:\n",
    "    articles = pickle.load(f)\n",
    "len(articles)"
   ]
  },
  {
   "cell_type": "code",
   "execution_count": 6,
   "metadata": {},
   "outputs": [
    {
     "name": "stderr",
     "output_type": "stream",
     "text": [
      "188039it [00:00, 480919.29it/s]\n"
     ]
    }
   ],
   "source": [
    "graph_path_straight = defaultdict(set)\n",
    "graph_path_inverse = defaultdict(set)\n",
    "id_artircle2idx_article = {}\n",
    "idx_article2id_artircle = {}\n",
    "for idx, (article, _) in tqdm(enumerate(articles)):\n",
    "    id_artircle2idx_article[article['id']] = idx\n",
    "    idx_article2id_artircle[idx] = article['id']\n",
    "    for link in article['rels']:\n",
    "        graph_path_straight[link['rel_id']].add(article['id'])\n",
    "        graph_path_inverse[article['id']].add(link['rel_id'])"
   ]
  },
  {
   "cell_type": "code",
   "execution_count": 7,
   "metadata": {},
   "outputs": [],
   "source": [
    "def find_reachable_vertices(graph, start_vertex):\n",
    "    visited = set()\n",
    "    queue = deque([start_vertex])\n",
    "    reachable_vertices = set()\n",
    "\n",
    "    while queue:\n",
    "        current_vertex = queue.popleft()\n",
    "        visited.add(current_vertex)\n",
    "        reachable_vertices.add(current_vertex)\n",
    "\n",
    "        for neighbor in graph[current_vertex]:\n",
    "            if neighbor not in visited:\n",
    "                queue.append(neighbor)\n",
    "\n",
    "    return reachable_vertices"
   ]
  },
  {
   "cell_type": "code",
   "execution_count": 8,
   "metadata": {},
   "outputs": [
    {
     "name": "stdout",
     "output_type": "stream",
     "text": [
      "{'Q43229', 'Q96116695', 'Q23958852', 'Q99527517', 'Q12973014', 'Q16334298', 'Q104093226', 'Q35120', 'Q96251598', 'Q104086571', 'Q327245', 'Q1639378', 'Q106559804', 'Q16334295', 'Q7184903', 'Q15720476', 'Q24017414', 'Q58778', 'Q488383', 'Q4568', 'Q4438121'}\n"
     ]
    }
   ],
   "source": [
    "print(find_reachable_vertices(graph_path_inverse, 'Q4568'))"
   ]
  },
  {
   "cell_type": "code",
   "execution_count": 9,
   "metadata": {},
   "outputs": [],
   "source": [
    "def extractCtxS(wn, lemma:str):\n",
    "    #составляем контекст для слова из wordnet\n",
    "    ctx_s = set()\n",
    "    #synonymy\n",
    "    for sense in wn.get_synsets(lemma):\n",
    "        for synonymy in sense.senses:\n",
    "            ctx_s.update(my_split(synonymy.lemma).split(\",\"))\n",
    "    #Hypernymy/Hyponymy\n",
    "    for sense in wn.get_senses(lemma):\n",
    "        for hypernyms in sense.synset.hypernyms:\n",
    "            ctx_s.update(my_split(hypernyms.title).split(\",\"))\n",
    "    for sense in wn.get_senses(lemma):\n",
    "        for hyponyms in sense.synset.hyponyms:\n",
    "            ctx_s.update(my_split(hyponyms.title).split(\",\"))\n",
    "    #Sisterhood:\n",
    "    for sense in wn.get_senses(lemma):\n",
    "        for hypernyms in sense.synset.hypernyms:\n",
    "            for sister in hypernyms.hyponyms:\n",
    "                ctx_s.update(my_split(sister.title).split(\",\"))\n",
    "    return ctx_s\n",
    "@dataclass\n",
    "class WnCtx:\n",
    "    id: int\n",
    "    ctx: set\n",
    "    lemmaInWn: str\n",
    "    name: str"
   ]
  },
  {
   "cell_type": "code",
   "execution_count": 10,
   "metadata": {},
   "outputs": [],
   "source": [
    "file = open(\"D:\\\\asd\\\\ctxS.txt\", \"rb\")\n",
    "unpickler = pickle.Unpickler(file)\n",
    "dictWn = unpickler.load()\n",
    "file.close()"
   ]
  },
  {
   "cell_type": "code",
   "execution_count": null,
   "metadata": {},
   "outputs": [],
   "source": []
  },
  {
   "cell_type": "code",
   "execution_count": 11,
   "metadata": {},
   "outputs": [
    {
     "data": {
      "text/plain": [
       "([Synset(id=\"130555-N\", title=\"ЯПОНСКАЯ ГЕЙША\")],\n",
       " Sense(id=\"130555-N-741490\", name=\"ЯПОНСКАЯ ГЕЙША\"))"
      ]
     },
     "execution_count": 11,
     "metadata": {},
     "output_type": "execute_result"
    }
   ],
   "source": [
    "wn.get_synsets(wn['130555-N-741490'].lemma), wn['130555-N-741490']"
   ]
  },
  {
   "cell_type": "code",
   "execution_count": 12,
   "metadata": {},
   "outputs": [],
   "source": [
    "from typing import Tuple, List"
   ]
  },
  {
   "cell_type": "code",
   "execution_count": 13,
   "metadata": {},
   "outputs": [],
   "source": [
    "def get_new_lemma(all_synsets, title):\n",
    "    title = title.lower()\n",
    "    title = title.replace(\"—\", \"-\")\n",
    "    title = title.replace(\",\", \"\")\n",
    "    if title in all_synsets:\n",
    "        return title\n",
    "    if \"(\" in title:\n",
    "        text = my_split(title).split(\",\")\n",
    "        if text[0] in all_synsets:\n",
    "            return text[0]\n",
    "    text = title.split(\",\")\n",
    "    lemmatized = \" \".join([get_normal_form(word).lower()\n",
    "                for word in text])\n",
    "    if lemmatized in all_synsets:\n",
    "        return lemmatized\n",
    "    if \"ё\" in title:\n",
    "        return get_new_lemma(all_synsets, title.replace(\"ё\",\"е\"))\n",
    "    return None"
   ]
  },
  {
   "cell_type": "code",
   "execution_count": 14,
   "metadata": {},
   "outputs": [],
   "source": [
    "all_synsets = set([lem.title.lower() for lem in wn.synsets])"
   ]
  },
  {
   "cell_type": "code",
   "execution_count": 15,
   "metadata": {},
   "outputs": [
    {
     "name": "stderr",
     "output_type": "stream",
     "text": [
      "100%|██████████| 188039/188039 [02:36<00:00, 1198.52it/s]"
     ]
    },
    {
     "name": "stdout",
     "output_type": "stream",
     "text": [
      "32010\n"
     ]
    },
    {
     "name": "stderr",
     "output_type": "stream",
     "text": [
      "\n"
     ]
    }
   ],
   "source": [
    "\n",
    "def create_dict_candidates(articles:List[Tuple[dict, str]]) -> dict:\n",
    "    \"\"\"\n",
    "        Создание словаря из синсета в кандидаты для связывания\n",
    "    \"\"\"\n",
    "    canidates = defaultdict(list)\n",
    "    for (article, lemma) in tqdm(articles):\n",
    "        if 'ru' in article['label']:\n",
    "            if lemma:\n",
    "                synset_base_on_lemma = wn.get_synsets(lemma)\n",
    "                if synset_base_on_lemma:\n",
    "                    for synset in wn.get_synsets(lemma):\n",
    "                        canidates[synset.id].append((article, lemma))\n",
    "            else:\n",
    "                lemma_new = get_new_lemma(all_synsets, article['label']['ru'])\n",
    "                if lemma_new:\n",
    "                    for synset in wn.get_synsets(lemma_new):\n",
    "                        canidates[synset.id].append((article, lemma_new))\n",
    "    return canidates\n",
    "candidates = create_dict_candidates(articles)\n",
    "print(len(candidates))"
   ]
  },
  {
   "cell_type": "code",
   "execution_count": 16,
   "metadata": {},
   "outputs": [],
   "source": [
    "# candidates['ЭНЦИКЛОПЕДИЧЕСКИЙ СЛОВАРЬ']\n",
    "import re\n",
    "\n",
    "\n",
    "def clean_text(text):\n",
    "    cleaned_text = re.sub(r\"[^\\w\\s]\", \"\", text)\n",
    "    cleaned_text = re.sub(r\"\\d+\", \"\", cleaned_text)\n",
    "    cleaned_text = re.sub(r\"\\s+\", \" \", cleaned_text)\n",
    "    cleaned_text = cleaned_text.strip().lower()\n",
    "    return cleaned_text\n",
    "\n",
    "def extract_ctx_wikidata(article:dict) -> set:\n",
    "    '''\n",
    "        Излвечения контекста статьи из ее ооописания на русском\n",
    "    '''\n",
    "    ctx = set()\n",
    "    if 'ru' in article['descriptions']:\n",
    "        for token in clean_text(article['descriptions']['ru']).split():\n",
    "            ctx.add(get_normal_form(token).lower())\n",
    "    return ctx\n",
    "def get_score(elem1:set, elem2:set) -> float:\n",
    "    '''\n",
    "        Функция подсчета близости статьи и контекстов на основе эвристики\n",
    "    '''\n",
    "    return (len((elem1 & elem2)) + 1) / (len(elem1) + len(elem2) + 1)"
   ]
  },
  {
   "cell_type": "code",
   "execution_count": 18,
   "metadata": {},
   "outputs": [
    {
     "name": "stderr",
     "output_type": "stream",
     "text": [
      "32010it [05:17, 100.75it/s]\n"
     ]
    }
   ],
   "source": [
    "score_dict = defaultdict(list)\n",
    "for i, (title_synset, candidatess) in tqdm(enumerate(candidates.items())):\n",
    "    for candidate, lemma in candidatess:\n",
    "        if 'N' in wn[lemma][0].id:\n",
    "            synset_ctx = dictWn[wn[lemma][0].id].ctx\n",
    "            article_ctx = extract_ctx_wikidata(candidate)\n",
    "            article_ctx.update([candidate['label']['ru'].lower(), lemma.lower()])\n",
    "            score = get_score(article_ctx, synset_ctx)\n",
    "            score_dict[title_synset].append(score)\n",
    "        else:\n",
    "            score_dict[title_synset].append(0.0)"
   ]
  },
  {
   "cell_type": "code",
   "execution_count": 29,
   "metadata": {},
   "outputs": [
    {
     "name": "stdout",
     "output_type": "stream",
     "text": [
      "Q29064418 {'СВАЗИЛЕНД', 'Свазиленд', 'значение', 'страница'}\n"
     ]
    }
   ],
   "source": [
    "for candidate, lemma in candidates['103410-N']:\n",
    "        if 'N' in wn[lemma][0].id:\n",
    "            synset_ctx = dictWn[wn[lemma][0].id].ctx\n",
    "            article_ctx = extract_ctx_wikidata(candidate)\n",
    "            article_ctx.update([candidate['label']['ru'], lemma])\n",
    "            score = get_score(article_ctx, synset_ctx)\n",
    "            print(candidate['id'],article_ctx)\n",
    "            score_dict[title_synset].append(score)\n",
    "        else:\n",
    "            score_dict[title_synset].append(0.0)"
   ]
  },
  {
   "cell_type": "code",
   "execution_count": 20,
   "metadata": {},
   "outputs": [],
   "source": [
    "@dataclass\n",
    "class display_synset_to_wikidata:\n",
    "    id:int\n",
    "    label:int\n",
    "    lemma:str\n",
    "    sense_id:int\n",
    "    score:float\n",
    "    synset_lemma:str"
   ]
  },
  {
   "cell_type": "code",
   "execution_count": 21,
   "metadata": {},
   "outputs": [
    {
     "name": "stderr",
     "output_type": "stream",
     "text": [
      "32010it [00:18, 1725.33it/s]\n"
     ]
    }
   ],
   "source": [
    "res_score={}\n",
    "for _, (title_synset, candidatess) in tqdm(enumerate(candidates.items())):\n",
    "    sorted_lst = sorted(zip(candidatess, score_dict[title_synset]), key=lambda x: x[1], reverse=True)\n",
    "    if sorted_lst and 'N' in title_synset:\n",
    "        res_score[title_synset] = display_synset_to_wikidata(sorted_lst[0][0][0]['id'], sorted_lst[0][0][0]['label'], sorted_lst[0][0][1], wn[sorted_lst[0][0][1]][0].id, sorted_lst[0][1], title_synset)"
   ]
  },
  {
   "cell_type": "code",
   "execution_count": 21,
   "metadata": {},
   "outputs": [],
   "source": [
    "# with open(\"res.pickle\", 'wb') as f:\n",
    "#     pickle.dump(res_score, f)"
   ]
  },
  {
   "cell_type": "code",
   "execution_count": 4,
   "metadata": {},
   "outputs": [],
   "source": [
    "with open(\"res.pickle\", 'rb') as f:\n",
    "    res_score = pickle.load(f)"
   ]
  },
  {
   "cell_type": "code",
   "execution_count": 22,
   "metadata": {},
   "outputs": [
    {
     "data": {
      "text/plain": [
       "26409"
      ]
     },
     "execution_count": 22,
     "metadata": {},
     "output_type": "execute_result"
    }
   ],
   "source": [
    "len(res_score)"
   ]
  },
  {
   "cell_type": "code",
   "execution_count": 26,
   "metadata": {},
   "outputs": [
    {
     "data": {
      "text/html": [
       "<div>\n",
       "<style scoped>\n",
       "    .dataframe tbody tr th:only-of-type {\n",
       "        vertical-align: middle;\n",
       "    }\n",
       "\n",
       "    .dataframe tbody tr th {\n",
       "        vertical-align: top;\n",
       "    }\n",
       "\n",
       "    .dataframe thead th {\n",
       "        text-align: right;\n",
       "    }\n",
       "</style>\n",
       "<table border=\"1\" class=\"dataframe\">\n",
       "  <thead>\n",
       "    <tr style=\"text-align: right;\">\n",
       "      <th></th>\n",
       "      <th>Unnamed: 0.1</th>\n",
       "      <th>Unnamed: 0</th>\n",
       "      <th>synset_id</th>\n",
       "      <th>wiki_title</th>\n",
       "      <th>annotation</th>\n",
       "      <th>wiki_title_gold</th>\n",
       "      <th>WikiDataGoldTitle</th>\n",
       "      <th>WikiDataGoldId</th>\n",
       "      <th>predict_id</th>\n",
       "    </tr>\n",
       "  </thead>\n",
       "  <tbody>\n",
       "    <tr>\n",
       "      <th>0</th>\n",
       "      <td>0</td>\n",
       "      <td>0</td>\n",
       "      <td>115195-N</td>\n",
       "      <td>Облава</td>\n",
       "      <td>Да</td>\n",
       "      <td>Облава</td>\n",
       "      <td>Облава</td>\n",
       "      <td>Q494497</td>\n",
       "      <td>Q494497</td>\n",
       "    </tr>\n",
       "    <tr>\n",
       "      <th>1</th>\n",
       "      <td>1</td>\n",
       "      <td>1</td>\n",
       "      <td>128158-N</td>\n",
       "      <td>Шаньдун</td>\n",
       "      <td>Да</td>\n",
       "      <td>Шаньдун</td>\n",
       "      <td>Шаньдун</td>\n",
       "      <td>Q43407</td>\n",
       "      <td>Q43407</td>\n",
       "    </tr>\n",
       "    <tr>\n",
       "      <th>2</th>\n",
       "      <td>2</td>\n",
       "      <td>2</td>\n",
       "      <td>143699-N</td>\n",
       "      <td>Оксюморон</td>\n",
       "      <td>Да</td>\n",
       "      <td>Оксюморон</td>\n",
       "      <td>оксюморон</td>\n",
       "      <td>Q169429</td>\n",
       "      <td>Q169429</td>\n",
       "    </tr>\n",
       "    <tr>\n",
       "      <th>3</th>\n",
       "      <td>3</td>\n",
       "      <td>3</td>\n",
       "      <td>4061-N</td>\n",
       "      <td>Доверенность</td>\n",
       "      <td>Да</td>\n",
       "      <td>Доверенность</td>\n",
       "      <td>Доверенность</td>\n",
       "      <td>Q159733</td>\n",
       "      <td>Q159733</td>\n",
       "    </tr>\n",
       "    <tr>\n",
       "      <th>4</th>\n",
       "      <td>4</td>\n",
       "      <td>5</td>\n",
       "      <td>136544-N</td>\n",
       "      <td>Шахматная доска</td>\n",
       "      <td>Да</td>\n",
       "      <td>Шахматная доска</td>\n",
       "      <td>шахматная доска</td>\n",
       "      <td>Q110079</td>\n",
       "      <td>Q110079</td>\n",
       "    </tr>\n",
       "    <tr>\n",
       "      <th>...</th>\n",
       "      <td>...</td>\n",
       "      <td>...</td>\n",
       "      <td>...</td>\n",
       "      <td>...</td>\n",
       "      <td>...</td>\n",
       "      <td>...</td>\n",
       "      <td>...</td>\n",
       "      <td>...</td>\n",
       "      <td>...</td>\n",
       "    </tr>\n",
       "    <tr>\n",
       "      <th>1725</th>\n",
       "      <td>1725</td>\n",
       "      <td>1993</td>\n",
       "      <td>113701-N</td>\n",
       "      <td>Царю небесный</td>\n",
       "      <td>Нет</td>\n",
       "      <td>Бог</td>\n",
       "      <td>Бог</td>\n",
       "      <td>Q190</td>\n",
       "      <td>Q18535424</td>\n",
       "    </tr>\n",
       "    <tr>\n",
       "      <th>1726</th>\n",
       "      <td>1726</td>\n",
       "      <td>1994</td>\n",
       "      <td>124807-N</td>\n",
       "      <td>Наставничество</td>\n",
       "      <td>Да</td>\n",
       "      <td>Наставничество</td>\n",
       "      <td>наставничество</td>\n",
       "      <td>Q967647</td>\n",
       "      <td>Q16515647</td>\n",
       "    </tr>\n",
       "    <tr>\n",
       "      <th>1727</th>\n",
       "      <td>1727</td>\n",
       "      <td>1995</td>\n",
       "      <td>9199-N</td>\n",
       "      <td>Трансурановые элементы</td>\n",
       "      <td>Да</td>\n",
       "      <td>Трансурановые элементы</td>\n",
       "      <td>трансурановые элементы</td>\n",
       "      <td>Q106844</td>\n",
       "      <td>Q106844</td>\n",
       "    </tr>\n",
       "    <tr>\n",
       "      <th>1728</th>\n",
       "      <td>1728</td>\n",
       "      <td>1996</td>\n",
       "      <td>103410-N</td>\n",
       "      <td>Эсватини</td>\n",
       "      <td>Да</td>\n",
       "      <td>Эсватини</td>\n",
       "      <td>Эсватини</td>\n",
       "      <td>Q1050</td>\n",
       "      <td>Q29064418</td>\n",
       "    </tr>\n",
       "    <tr>\n",
       "      <th>1729</th>\n",
       "      <td>1729</td>\n",
       "      <td>1998</td>\n",
       "      <td>141998-N</td>\n",
       "      <td>Землянка</td>\n",
       "      <td>Да</td>\n",
       "      <td>Землянка</td>\n",
       "      <td>землянка</td>\n",
       "      <td>Q935908</td>\n",
       "      <td>Q935908</td>\n",
       "    </tr>\n",
       "  </tbody>\n",
       "</table>\n",
       "<p>1730 rows × 9 columns</p>\n",
       "</div>"
      ],
      "text/plain": [
       "      Unnamed: 0.1  Unnamed: 0 synset_id              wiki_title annotation  \\\n",
       "0                0           0  115195-N                  Облава         Да   \n",
       "1                1           1  128158-N                 Шаньдун         Да   \n",
       "2                2           2  143699-N               Оксюморон         Да   \n",
       "3                3           3    4061-N            Доверенность         Да   \n",
       "4                4           5  136544-N         Шахматная доска         Да   \n",
       "...            ...         ...       ...                     ...        ...   \n",
       "1725          1725        1993  113701-N           Царю небесный        Нет   \n",
       "1726          1726        1994  124807-N          Наставничество         Да   \n",
       "1727          1727        1995    9199-N  Трансурановые элементы         Да   \n",
       "1728          1728        1996  103410-N                Эсватини         Да   \n",
       "1729          1729        1998  141998-N                Землянка         Да   \n",
       "\n",
       "             wiki_title_gold       WikiDataGoldTitle WikiDataGoldId predict_id  \n",
       "0                     Облава                  Облава        Q494497    Q494497  \n",
       "1                    Шаньдун                 Шаньдун         Q43407     Q43407  \n",
       "2                  Оксюморон               оксюморон        Q169429    Q169429  \n",
       "3               Доверенность            Доверенность        Q159733    Q159733  \n",
       "4            Шахматная доска         шахматная доска        Q110079    Q110079  \n",
       "...                      ...                     ...            ...        ...  \n",
       "1725                     Бог                     Бог           Q190  Q18535424  \n",
       "1726          Наставничество          наставничество        Q967647  Q16515647  \n",
       "1727  Трансурановые элементы  трансурановые элементы        Q106844    Q106844  \n",
       "1728                Эсватини                Эсватини          Q1050  Q29064418  \n",
       "1729                Землянка                землянка        Q935908    Q935908  \n",
       "\n",
       "[1730 rows x 9 columns]"
      ]
     },
     "execution_count": 26,
     "metadata": {},
     "output_type": "execute_result"
    }
   ],
   "source": [
    "\n",
    "data['predict_id'] = data['synset_id'].apply(lambda x: res_score[x].id if x in res_score else 'не связан')\n",
    "data\n"
   ]
  },
  {
   "cell_type": "code",
   "execution_count": 27,
   "metadata": {},
   "outputs": [
    {
     "data": {
      "text/plain": [
       "(0.5230677052127022, (1669, 9))"
      ]
     },
     "execution_count": 27,
     "metadata": {},
     "output_type": "execute_result"
    }
   ],
   "source": [
    "from sklearn.metrics import accuracy_score\n",
    "accuracy_score(data[data['predict_id'] !='не связан'].predict_id.astype(str), data[data['predict_id'] !='не связан'].WikiDataGoldId.astype(str)), data[data['predict_id'] !='не связан'].shape"
   ]
  },
  {
   "cell_type": "code",
   "execution_count": 185,
   "metadata": {},
   "outputs": [
    {
     "data": {
      "text/plain": [
       "(750, 'НАСТАВНИЧЕСТВО', [Synset(id=\"124807-N\", title=\"НАСТАВНИК\")])"
      ]
     },
     "execution_count": 185,
     "metadata": {},
     "output_type": "execute_result"
    }
   ],
   "source": [
    "sum([1 if i in candidates else 0 for i in data['synset_id'].values]), wn['наставничество'][0].lemma, wn.get_synsets('НАСТАВНИЧЕСТВО')"
   ]
  },
  {
   "cell_type": "code",
   "execution_count": 30,
   "metadata": {},
   "outputs": [
    {
     "data": {
      "text/plain": [
       "50899"
      ]
     },
     "execution_count": 30,
     "metadata": {},
     "output_type": "execute_result"
    }
   ],
   "source": [
    "id_artircle2idx_article['Q7209862']"
   ]
  },
  {
   "cell_type": "code",
   "execution_count": 31,
   "metadata": {},
   "outputs": [
    {
     "data": {
      "text/plain": [
       "({'id': 'Q7209862',\n",
       "  'pageid': 7112694,\n",
       "  'label': {'en': 'Polish Air Force checkerboard', 'ru': 'Шахматная доска'},\n",
       "  'descriptions': {'en': 'Marking for Polish Air Force',\n",
       "   'ru': 'Опознавательный знак ВВС Польши'},\n",
       "  'aliases': {},\n",
       "  'sitelinks': {'enwiki': 'Polish Air Force checkerboard',\n",
       "   'ruwiki': 'Шахматная доска (опознавательный знак)'},\n",
       "  'rels': []},\n",
       " 'шахматный доска')"
      ]
     },
     "execution_count": 31,
     "metadata": {},
     "output_type": "execute_result"
    }
   ],
   "source": [
    "articles[50899]"
   ]
  },
  {
   "cell_type": "code",
   "execution_count": 180,
   "metadata": {},
   "outputs": [
    {
     "data": {
      "text/plain": [
       "[({'id': 'Q929797',\n",
       "   'pageid': 880130,\n",
       "   'label': {'en': 'Mentor', 'ru': 'Ментор (спутник)'},\n",
       "   'descriptions': {'en': 'class of US spy satellites'},\n",
       "   'aliases': {'en': ['Advanced Orion']},\n",
       "   'sitelinks': {'enwiki': 'Orion (satellite)', 'ruwiki': 'Ментор (спутник)'},\n",
       "   'rels': [{'rel_id': 'Q466421', 'rank': 'normal', 'type': 'subclass_of'}]},\n",
       "  'ментор')]"
      ]
     },
     "execution_count": 180,
     "metadata": {},
     "output_type": "execute_result"
    }
   ],
   "source": [
    "candidates['124807-N']"
   ]
  },
  {
   "cell_type": "code",
   "execution_count": null,
   "metadata": {},
   "outputs": [],
   "source": []
  }
 ],
 "metadata": {
  "kernelspec": {
   "display_name": "base",
   "language": "python",
   "name": "python3"
  },
  "language_info": {
   "codemirror_mode": {
    "name": "ipython",
    "version": 3
   },
   "file_extension": ".py",
   "mimetype": "text/x-python",
   "name": "python",
   "nbconvert_exporter": "python",
   "pygments_lexer": "ipython3",
   "version": "3.9.13"
  },
  "orig_nbformat": 4,
  "vscode": {
   "interpreter": {
    "hash": "3043d1795ba4e0c21ad8f92575aa91bd2aeb4e429e5ce129ef86fd0e27798542"
   }
  }
 },
 "nbformat": 4,
 "nbformat_minor": 2
}
